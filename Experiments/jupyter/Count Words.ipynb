{
 "cells": [
  {
   "cell_type": "markdown",
   "metadata": {},
   "source": [
    "## Make a dictionary of words, from a paragraph, only count words with 4 or more characters. Key of the dictionary is a word and value is the count of times that word has appeared in the paragraph.\n",
    "\n"
   ]
  },
  {
   "cell_type": "code",
   "execution_count": null,
   "metadata": {
    "collapsed": true
   },
   "outputs": [],
   "source": [
    "mySentence = \"It's the Spice Girls but not as you know them. Twenty years after it was first released, this famous girl power anthem has been given a 21st century feminist makeover. The new video is part of Project Everyone's campaign to improve the lives of women and girls everywhere, calling for an end to violence against girls, quality education for all and equal pay for equal work.\"\n",
    "\n"
   ]
  },
  {
   "cell_type": "raw",
   "metadata": {},
   "source": [
    "print mySentence"
   ]
  },
  {
   "cell_type": "markdown",
   "metadata": {},
   "source": [
    "#Step 1: Remove words with less than 4 characters, split into a list, make lowercase"
   ]
  },
  {
   "cell_type": "code",
   "execution_count": null,
   "metadata": {
    "collapsed": true
   },
   "outputs": [],
   "source": [
    "mySentence = mySentence.lower()\n",
    "myList = [word for word in mySentence.split() if len(word)>3]\n",
    "\n",
    "print mySentence"
   ]
  },
  {
   "cell_type": "markdown",
   "metadata": {},
   "source": [
    "#Step 2: Remove non characters\n"
   ]
  },
  {
   "cell_type": "code",
   "execution_count": null,
   "metadata": {
    "collapsed": true
   },
   "outputs": [],
   "source": [
    "myList = [word for word in myList if word.isalpha()]\n",
    "\n",
    "print myList"
   ]
  },
  {
   "cell_type": "markdown",
   "metadata": {},
   "source": [
    "#Step 3: Create dictionary\n"
   ]
  },
  {
   "cell_type": "code",
   "execution_count": null,
   "metadata": {
    "collapsed": true
   },
   "outputs": [],
   "source": [
    "myDict = {}\n",
    "for word in myList:\n",
    "    myDict[word]=[myList.count(word)]\n",
    "\n",
    "print myDict"
   ]
  }
 ],
 "metadata": {
  "kernelspec": {
   "display_name": "Python 2",
   "language": "python",
   "name": "python2"
  },
  "language_info": {
   "codemirror_mode": {
    "name": "ipython",
    "version": 2
   },
   "file_extension": ".py",
   "mimetype": "text/x-python",
   "name": "python",
   "nbconvert_exporter": "python",
   "pygments_lexer": "ipython2",
   "version": "2.7.13"
  }
 },
 "nbformat": 4,
 "nbformat_minor": 2
}
